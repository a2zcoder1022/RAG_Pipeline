{
 "cells": [
  {
   "cell_type": "markdown",
   "id": "10eed442-8f0b-40f7-9ef3-34a6af9bef9e",
   "metadata": {},
   "source": [
    "# RAG Pipeline"
   ]
  },
  {
   "cell_type": "markdown",
   "id": "2f39e789-9640-49ed-8714-aec09122eaf4",
   "metadata": {},
   "source": [
    "### Pine cone\n",
    "\n",
    "Pine cone will be the the vector database implemented for storing all the embeddings created for the cord19 documents. \n",
    "\n",
    "All the embeddings are stored within an index in Pinecone. For this tutorial we will store the break up documents into two name spaces title and abstract. "
   ]
  },
  {
   "cell_type": "code",
   "execution_count": 1,
   "id": "dacc1c1c-882b-4c32-a296-3d4665e8200b",
   "metadata": {},
   "outputs": [
    {
     "name": "stderr",
     "output_type": "stream",
     "text": [
      "C:\\Users\\aaron\\Projects\\env\\Lib\\site-packages\\pinecone\\data\\index.py:1: TqdmWarning: IProgress not found. Please update jupyter and ipywidgets. See https://ipywidgets.readthedocs.io/en/stable/user_install.html\n",
      "  from tqdm.autonotebook import tqdm\n"
     ]
    }
   ],
   "source": [
    "from pinecone import Pinecone, ServerlessSpec\n",
    "from Keys import api_key\n",
    "import pinecone\n",
    "pine = Pinecone(api_key=api_key)"
   ]
  },
  {
   "cell_type": "code",
   "execution_count": 2,
   "id": "403aa164-05c9-4a41-98bd-cd5f7c63e7fe",
   "metadata": {},
   "outputs": [],
   "source": [
    "index = pine.Index(\"documentvectorsdb\")"
   ]
  },
  {
   "cell_type": "markdown",
   "id": "0acd6d81-da2f-4d2c-807f-052cfc5af7e1",
   "metadata": {},
   "source": [
    "## Cord 19 Dataset and Biobert embeddings"
   ]
  },
  {
   "cell_type": "code",
   "execution_count": 3,
   "id": "272e352d-293f-4183-bb21-f179e15e23d5",
   "metadata": {},
   "outputs": [],
   "source": [
    "from datasets import load_dataset\n",
    "\n",
    "data = load_dataset(\"cord19\", \"metadata\")"
   ]
  },
  {
   "cell_type": "code",
   "execution_count": 4,
   "id": "6e61e0e9-c940-4cf6-ad76-08395d384673",
   "metadata": {},
   "outputs": [],
   "source": [
    "df = data[\"train\"].to_pandas()\n",
    "df = df[[\"title\", \"abstract\"]]"
   ]
  },
  {
   "cell_type": "code",
   "execution_count": 5,
   "id": "b9b37df0-833b-4137-b14d-ab976b136ff2",
   "metadata": {},
   "outputs": [
    {
     "name": "stderr",
     "output_type": "stream",
     "text": [
      "C:\\Users\\aaron\\Projects\\env\\Lib\\site-packages\\transformers\\tokenization_utils_base.py:1601: FutureWarning: `clean_up_tokenization_spaces` was not set. It will be set to `True` by default. This behavior will be depracted in transformers v4.45, and will be then set to `False` by default. For more details check this issue: https://github.com/huggingface/transformers/issues/31884\n",
      "  warnings.warn(\n"
     ]
    }
   ],
   "source": [
    "from PreTrainedModel import PreTrainedModel\n",
    "model_name=\"dmis-lab/biobert-base-cased-v1.1\"\n",
    "column_name=\"title\"\n",
    "limit=20\n",
    "model = PreTrainedModel(model_name, df, column_name, limit)"
   ]
  },
  {
   "cell_type": "code",
   "execution_count": 6,
   "id": "acdf5a45-fe5d-4143-91e8-ea3ba94554b6",
   "metadata": {},
   "outputs": [
    {
     "name": "stderr",
     "output_type": "stream",
     "text": [
      "Asking to truncate to max_length but no maximum length is provided and the model has no predefined maximum length. Default to no truncation.\n"
     ]
    }
   ],
   "source": [
    "embeddings = model.process()"
   ]
  },
  {
   "cell_type": "markdown",
   "id": "342c38ac-d80c-4d80-a88f-4320e7d10951",
   "metadata": {},
   "source": [
    "## Upserting the Data to the Database"
   ]
  },
  {
   "cell_type": "code",
   "execution_count": 8,
   "id": "905bc9dd-e8ef-4f60-ad33-5fa93ab0da7d",
   "metadata": {},
   "outputs": [
    {
     "data": {
      "text/plain": [
       "{'upserted_count': 21}"
      ]
     },
     "execution_count": 8,
     "metadata": {},
     "output_type": "execute_result"
    }
   ],
   "source": [
    "index.upsert(embeddings, namespace=\"cord-titles\")"
   ]
  }
 ],
 "metadata": {
  "kernelspec": {
   "display_name": "Python 3 (ipykernel)",
   "language": "python",
   "name": "python3"
  },
  "language_info": {
   "codemirror_mode": {
    "name": "ipython",
    "version": 3
   },
   "file_extension": ".py",
   "mimetype": "text/x-python",
   "name": "python",
   "nbconvert_exporter": "python",
   "pygments_lexer": "ipython3",
   "version": "3.12.7"
  }
 },
 "nbformat": 4,
 "nbformat_minor": 5
}
